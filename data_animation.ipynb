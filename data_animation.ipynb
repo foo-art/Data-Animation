{
 "cells": [
  {
   "cell_type": "markdown",
   "id": "96d4a1b8",
   "metadata": {},
   "source": [
    "## Data animation"
   ]
  },
  {
   "cell_type": "markdown",
   "id": "fc34a7a6",
   "metadata": {},
   "source": [
    "### Part 1 - Static Data Visualisation"
   ]
  },
  {
   "cell_type": "markdown",
   "id": "48a16421",
   "metadata": {},
   "source": [
    "1) Importing libraries and dataset from ```auto-mpg.csv```."
   ]
  },
  {
   "cell_type": "code",
   "execution_count": 10,
   "id": "1d0ba226",
   "metadata": {},
   "outputs": [],
   "source": [
    "%matplotlib qt\n",
    "import numpy as np\n",
    "import pandas as pd\n",
    "import matplotlib.pyplot as plt\n",
    "import matplotlib.animation as animation"
   ]
  },
  {
   "cell_type": "code",
   "execution_count": 11,
   "id": "d827cc41",
   "metadata": {},
   "outputs": [
    {
     "data": {
      "text/html": [
       "<div>\n",
       "<style scoped>\n",
       "    .dataframe tbody tr th:only-of-type {\n",
       "        vertical-align: middle;\n",
       "    }\n",
       "\n",
       "    .dataframe tbody tr th {\n",
       "        vertical-align: top;\n",
       "    }\n",
       "\n",
       "    .dataframe thead th {\n",
       "        text-align: right;\n",
       "    }\n",
       "</style>\n",
       "<table border=\"1\" class=\"dataframe\">\n",
       "  <thead>\n",
       "    <tr style=\"text-align: right;\">\n",
       "      <th></th>\n",
       "      <th>mpg</th>\n",
       "      <th>cylinders</th>\n",
       "      <th>displacement</th>\n",
       "      <th>horsepower</th>\n",
       "      <th>weight</th>\n",
       "      <th>acceleration</th>\n",
       "      <th>model year</th>\n",
       "      <th>origin</th>\n",
       "      <th>car name</th>\n",
       "    </tr>\n",
       "  </thead>\n",
       "  <tbody>\n",
       "    <tr>\n",
       "      <th>0</th>\n",
       "      <td>18.0</td>\n",
       "      <td>8</td>\n",
       "      <td>307.0</td>\n",
       "      <td>130</td>\n",
       "      <td>3504</td>\n",
       "      <td>12.0</td>\n",
       "      <td>1</td>\n",
       "      <td>1</td>\n",
       "      <td>chevrolet chevelle malibu</td>\n",
       "    </tr>\n",
       "    <tr>\n",
       "      <th>1</th>\n",
       "      <td>15.0</td>\n",
       "      <td>8</td>\n",
       "      <td>350.0</td>\n",
       "      <td>165</td>\n",
       "      <td>3693</td>\n",
       "      <td>11.5</td>\n",
       "      <td>2</td>\n",
       "      <td>1</td>\n",
       "      <td>buick skylark 320</td>\n",
       "    </tr>\n",
       "    <tr>\n",
       "      <th>2</th>\n",
       "      <td>18.0</td>\n",
       "      <td>8</td>\n",
       "      <td>318.0</td>\n",
       "      <td>150</td>\n",
       "      <td>3436</td>\n",
       "      <td>11.0</td>\n",
       "      <td>3</td>\n",
       "      <td>1</td>\n",
       "      <td>plymouth satellite</td>\n",
       "    </tr>\n",
       "    <tr>\n",
       "      <th>3</th>\n",
       "      <td>16.0</td>\n",
       "      <td>8</td>\n",
       "      <td>304.0</td>\n",
       "      <td>150</td>\n",
       "      <td>3433</td>\n",
       "      <td>12.0</td>\n",
       "      <td>4</td>\n",
       "      <td>1</td>\n",
       "      <td>amc rebel sst</td>\n",
       "    </tr>\n",
       "    <tr>\n",
       "      <th>4</th>\n",
       "      <td>17.0</td>\n",
       "      <td>8</td>\n",
       "      <td>302.0</td>\n",
       "      <td>140</td>\n",
       "      <td>3449</td>\n",
       "      <td>10.5</td>\n",
       "      <td>5</td>\n",
       "      <td>1</td>\n",
       "      <td>ford torino</td>\n",
       "    </tr>\n",
       "  </tbody>\n",
       "</table>\n",
       "</div>"
      ],
      "text/plain": [
       "    mpg  cylinders  displacement  horsepower  weight  acceleration  \\\n",
       "0  18.0          8         307.0         130    3504          12.0   \n",
       "1  15.0          8         350.0         165    3693          11.5   \n",
       "2  18.0          8         318.0         150    3436          11.0   \n",
       "3  16.0          8         304.0         150    3433          12.0   \n",
       "4  17.0          8         302.0         140    3449          10.5   \n",
       "\n",
       "   model year  origin                   car name  \n",
       "0           1       1  chevrolet chevelle malibu  \n",
       "1           2       1          buick skylark 320  \n",
       "2           3       1         plymouth satellite  \n",
       "3           4       1              amc rebel sst  \n",
       "4           5       1                ford torino  "
      ]
     },
     "execution_count": 11,
     "metadata": {},
     "output_type": "execute_result"
    }
   ],
   "source": [
    "df = pd.read_csv(\"auto-mpg.csv\")\n",
    "df.head()"
   ]
  },
  {
   "cell_type": "code",
   "execution_count": 13,
   "id": "8625c8bc",
   "metadata": {},
   "outputs": [],
   "source": [
    "fig, ax = plt.subplots()\n",
    "\n",
    "plt.scatter(df.iloc[:,0], df.iloc[:,3], color=\"darkorange\", edgecolor='black', zorder=1)\n",
    "\n",
    "ax.set_xlabel('Miles per Gallon (mpg)')\n",
    "ax.set_ylabel('Horsepower (hp)')\n",
    "ax.set_title(' Power versus fuel efficiency')\n",
    "\n",
    "plt.show()"
   ]
  },
  {
   "cell_type": "markdown",
   "id": "d15ff8ed",
   "metadata": {},
   "source": [
    "2) Constructing the set of rules for data to be used in plot of power against fuel efficiency."
   ]
  },
  {
   "cell_type": "code",
   "execution_count": 159,
   "id": "9387c2d1",
   "metadata": {},
   "outputs": [],
   "source": [
    "#initialised the array containing power and fuel efficiency\n",
    "power = df.iloc[:, 3]\n",
    "fuel = df.iloc[:, 0]\n",
    "#initialised empty array to store index of non-dominated cars \n",
    "dominate = []\n",
    "#initialised empty array to store index of dominated cars\n",
    "notdom = []\n",
    "#empty array to store the entire index \n",
    "coll = []\n",
    "\n",
    "for i in range(len(df)):\n",
    "    #extract the power and fuel efficiency of the respective car\n",
    "    p = df.iloc[i, 3]\n",
    "    f = df.iloc[i, 0]\n",
    "    #initialised the count for cars dominated by it as zero\n",
    "    k = 0\n",
    "    #store the car's index into coll\n",
    "    coll.append(i)\n",
    "    for j in coll:\n",
    "        #if the car's power or car's fuel efficiency is higher than any other cars in coll do\n",
    "        if ((p > power[j]) | (f > fuel[j])):\n",
    "            #increment the count for cars dominated by it\n",
    "            k += 1\n",
    "            #if the car's power or car's fuel efficiency is higher than any other cars in dominate do\n",
    "            if ((p >= power[j]) & (f >= fuel[j])) & (j in dominate):\n",
    "                #remove the other cars from dominate\n",
    "                dominate.remove(j)\n",
    "                #add the other cars into notdom\n",
    "                notdom.append(j)\n",
    "\n",
    "    #if the count for k is less than the cars in coll do\n",
    "    if (k < len(coll) - 1):\n",
    "        #label the cars as dominated \n",
    "        notdom.append(i)\n",
    "    else:\n",
    "        #label the cars as non-dominated\n",
    "        dominate.append(i)"
   ]
  },
  {
   "cell_type": "markdown",
   "id": "e924afbb",
   "metadata": {},
   "source": [
    "3) Make sure that the number of dominated and non-dominated cars equal the total number of cars."
   ]
  },
  {
   "cell_type": "code",
   "execution_count": 160,
   "id": "c1e49753",
   "metadata": {},
   "outputs": [
    {
     "name": "stdout",
     "output_type": "stream",
     "text": [
      "total :  392 , non dominated :  14 , dominated :  378\n"
     ]
    }
   ],
   "source": [
    "num_dominate = len(dominate)\n",
    "num_notdom = len(notdom)\n",
    "total = len(df)\n",
    "print(r\"total : \", total, \", non dominated : \", num_dominate, \", dominated : \", num_notdom)"
   ]
  },
  {
   "cell_type": "markdown",
   "id": "53cea072",
   "metadata": {},
   "source": [
    "4) Plotting the results for the record of power against fuel efficiency."
   ]
  },
  {
   "cell_type": "code",
   "execution_count": 164,
   "id": "f0e5eec0",
   "metadata": {},
   "outputs": [],
   "source": [
    "#initialised the plot\n",
    "fig, ax = plt.subplots()\n",
    "\n",
    "#plot non-dominated cars\n",
    "for i in dominate:\n",
    "    #plot the dominating region\n",
    "    poly = plt.Rectangle((0, 0), df.iloc[i, 0], df.iloc[i, 3], fc='lightgrey', alpha=1.0, zorder=0)\n",
    "    plt.gca().add_patch(poly)\n",
    "\n",
    "#plot dominated cars\n",
    "plt.scatter(df.iloc[notdom,0], df.iloc[notdom,3], color=\"darkorange\", edgecolor='black', zorder=1, label=\"dominated\")\n",
    "#plot non-dominated cars\n",
    "plt.scatter(df.iloc[dominate,0], df.iloc[dominate,3], color=\"cyan\", edgecolor='black', zorder=2, label=\"non-dominated\")\n",
    "\n",
    "#plot the results\n",
    "ax.set_xlabel('Miles per Gallon (mpg)')\n",
    "ax.set_ylabel('Horsepower (hp)')\n",
    "ax.set_title(' Power versus fuel efficiency')\n",
    "plt.legend()\n",
    "plt.show()"
   ]
  },
  {
   "cell_type": "markdown",
   "id": "b2c996b2",
   "metadata": {},
   "source": [
    "### Part 2 : Animation"
   ]
  },
  {
   "cell_type": "markdown",
   "id": "ffd53059",
   "metadata": {},
   "source": [
    "1) Importing libraries from ```animation``` in ```matplotlib```."
   ]
  },
  {
   "cell_type": "code",
   "execution_count": 149,
   "id": "cb85e8fa",
   "metadata": {},
   "outputs": [],
   "source": [
    "from matplotlib.animation import FuncAnimation\n",
    "from matplotlib.animation import ArtistAnimation"
   ]
  },
  {
   "cell_type": "markdown",
   "id": "f369008c",
   "metadata": {},
   "source": [
    "2) Set a few constraints and global imput for animations."
   ]
  },
  {
   "cell_type": "code",
   "execution_count": 150,
   "id": "f16bf8e1",
   "metadata": {},
   "outputs": [],
   "source": [
    "#total number of cars\n",
    "max_cars = len(df)"
   ]
  },
  {
   "cell_type": "code",
   "execution_count": 151,
   "id": "0a29cf19",
   "metadata": {},
   "outputs": [],
   "source": [
    "#index of car\n",
    "num_cars = 0\n",
    "#initialised the array containing power and fuel efficiency\n",
    "power = df.iloc[:, 3]\n",
    "fuel = df.iloc[:, 0]\n",
    "#initialised empty array to store index of non-dominated cars \n",
    "dominate = []\n",
    "#initialised empty array to store index of dominated cars\n",
    "notdom = []\n",
    "#empty array to store the entire index \n",
    "coll = []"
   ]
  },
  {
   "cell_type": "markdown",
   "id": "ae519ed0",
   "metadata": {},
   "source": [
    "3) Defining function ```cars``` that sets the rules for dominated and non-dominated cars based on Step (2) in Part 1."
   ]
  },
  {
   "cell_type": "code",
   "execution_count": 152,
   "id": "82f8fada",
   "metadata": {},
   "outputs": [],
   "source": [
    "def cars(num_cars):\n",
    "    p = df.iloc[num_cars, 3]\n",
    "    f = df.iloc[num_cars, 0]\n",
    "    k = 0\n",
    "    coll.append(num_cars)\n",
    "    for j in coll:\n",
    "        if (p > power[j]) | (f > fuel[j]):\n",
    "            k += 1\n",
    "            if ((p >= power[j]) & (f >= fuel[j])) & (j in dominate):\n",
    "                dominate.remove(j)\n",
    "                notdom.append(j)\n",
    "\n",
    "    if (k < len(coll) - 1):\n",
    "        notdom.append(num_cars)\n",
    "    else:\n",
    "        dominate.append(num_cars)"
   ]
  },
  {
   "cell_type": "markdown",
   "id": "20aca389",
   "metadata": {},
   "source": [
    "4) Animate the results from Part 1 using ```Funcanimation``` and function ```cars```."
   ]
  },
  {
   "cell_type": "code",
   "execution_count": 153,
   "id": "d6f6793f",
   "metadata": {},
   "outputs": [],
   "source": [
    "#initialised the figure to plot the results\n",
    "fig, ax = plt.subplots(figsize=(11, 9))\n",
    "#some labels for the plot\n",
    "plt.xlim((0, df[\"mpg\"].max()))\n",
    "plt.ylim((0, df[\"horsepower\"].max()))\n",
    "ax.set_xlabel('Miles per Gallon (mpg)')\n",
    "ax.set_ylabel('Horsepower (hp)')\n",
    "ax.set_title(' Power versus fuel efficiency')\n",
    "\n",
    "#function to animate output of function cars\n",
    "def animate(frameNum):\n",
    "    #access the global variables\n",
    "    global num_cars, dominate, notdom, df, power, fuel, coll\n",
    "    #if the index for the cars is less than the total number of cars do\n",
    "    if (num_cars < max_cars):\n",
    "        #run function cars with the respective cars\n",
    "        cars(num_cars) \n",
    "        \n",
    "        #clear the plot\n",
    "        ax.clear()\n",
    "        #label the plot\n",
    "        ax.set_xlabel('Miles per Gallon (mpg)')\n",
    "        ax.set_ylabel('Horsepower (hp)')\n",
    "        ax.set_title(' Power versus fuel efficiency')\n",
    "    \n",
    "        #plot the dominating region\n",
    "        for i in dominate:\n",
    "            poly = plt.Rectangle((0, 0), df.iloc[i, 0], df.iloc[i, 3], fc='lightgrey', alpha=1.0, zorder=0)\n",
    "            plt.gca().add_patch(poly)\n",
    "            \n",
    "        #plot the dominated cars\n",
    "        plt.scatter(df.iloc[notdom,0], df.iloc[notdom,3], color=\"darkorange\", edgecolor='black', zorder=1, label=\"dominated\")\n",
    "        #plot the non-dominated cars\n",
    "        plt.scatter(df.iloc[dominate,0], df.iloc[dominate,3], color=\"cyan\", edgecolor='black', zorder=2, label=\"non-dominated\")\n",
    "        \n",
    "        plt.legend()\n",
    "        #increment the index of cars\n",
    "        num_cars += 1\n",
    "        \n",
    "# Create the animation. Note that we must keep a handle to it, i.e. say \"anim = \", otherwise it will be garbage collected.\n",
    "anim = FuncAnimation(fig, animate, repeat=False, blit=False, frames=max_cars, interval=50)\n",
    "\n",
    "#uncomment the below line to save the animation\n",
    "#anim.save('cars_dominate.mp4', fps=10)\n",
    "plt.show()"
   ]
  },
  {
   "cell_type": "code",
   "execution_count": null,
   "id": "c9bc73fa",
   "metadata": {},
   "outputs": [],
   "source": []
  }
 ],
 "metadata": {
  "kernelspec": {
   "display_name": "Python 3",
   "language": "python",
   "name": "python3"
  },
  "language_info": {
   "codemirror_mode": {
    "name": "ipython",
    "version": 3
   },
   "file_extension": ".py",
   "mimetype": "text/x-python",
   "name": "python",
   "nbconvert_exporter": "python",
   "pygments_lexer": "ipython3",
   "version": "3.8.8"
  }
 },
 "nbformat": 4,
 "nbformat_minor": 5
}
